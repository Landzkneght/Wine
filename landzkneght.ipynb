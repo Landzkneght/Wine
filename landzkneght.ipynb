from sklearn.datasets import load_wine
from sklearn.model_selection import train_test_split
from sklearn.neural_network import MLPClassifier
from sklearn.metrics import accuracy_score
import matplotlib.pyplot as plt

wine = load_wine()

x_train, x_test, y_train, y_test = train_test_split(
    wine.data, 
    wine.target, 
    test_size=0.3, 
    random_state=43
)

mlp = MLPClassifier(
    hidden_layer_sizes=(60, 30),  
    max_iter=300,  
    random_state=1,  
    verbose=True,  
)
mlp.fit(x_train, y_train)

plt.figure(figsize=(8, 6))
plt.plot(mlp.loss_curve_, marker='o', linestyle='-', color='b')
plt.title("Кривая потерь (Loss Curve)")
plt.xlabel("Количество итераций")
plt.ylabel("Значение функции потерь")
plt.grid(True)
plt.show()

predictions = mlp.predict(x_test)
accuracy = accuracy_score(y_test, predictions)
accuracy